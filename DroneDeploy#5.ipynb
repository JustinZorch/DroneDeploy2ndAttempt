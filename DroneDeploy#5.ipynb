{
 "cells": [
  {
   "cell_type": "markdown",
   "id": "0923617f",
   "metadata": {},
   "source": [
    "## Minimise Computational time O(N^2)\n",
    "\n",
    "Aim is to only compute values within the x and y of 500, create mini_lists or sub_lists each time and not run the nested for loop"
   ]
  },
  {
   "cell_type": "code",
   "execution_count": 1,
   "id": "73f62dca",
   "metadata": {},
   "outputs": [],
   "source": [
    "import matplotlib as plt\n",
    "import numpy as np\n",
    "import math\n",
    "import time\n",
    "%matplotlib inline\n",
    "import random\n",
    "random.seed(1)\n",
    "\n",
    "NUM_DRONES = 10000\n",
    "AIRSPACE_SIZE = 128000 # 128 km\n",
    "CONFLICT_RADIUS = 500  # Meters.\n",
    "\n",
    "def gen_coord():\n",
    "    return int(random.random() * AIRSPACE_SIZE)\n",
    "\n",
    "positions = [[gen_coord(), gen_coord()] for i in range(NUM_DRONES)]\n",
    "positions.sort(key = lambda x: x[0])#Sort along X axis"
   ]
  },
  {
   "cell_type": "markdown",
   "id": "0b5ac5b7",
   "metadata": {},
   "source": [
    "## Notes/Ideas\n",
    "\n",
    "    1. Create 2 lists X: x0 to x128 and Y: y0 to y128\n",
    "    2. Then just look at the values within 500 up or down of the x and y value\n",
    "    3. only compare each drone to a small subsetl list\n",
    "    4. remove any or all that conflict with first dtrone\n",
    "    5. try to limit loops and no for loops\n",
    "    6. "
   ]
  },
  {
   "cell_type": "markdown",
   "id": "cdacbc43",
   "metadata": {},
   "source": [
    "## questions\n",
    "\n",
    "1. How is it possible to get different compute times if random_state is set to 1? PC warming up lol\n",
    "2. is it quicker to have a single line of if stats then nested? If A and B vs If A: If B"
   ]
  },
  {
   "cell_type": "markdown",
   "id": "eacdadee",
   "metadata": {},
   "source": [
    "## Brute Force Method O(n^2)"
   ]
  },
  {
   "cell_type": "code",
   "execution_count": 2,
   "id": "46830359",
   "metadata": {},
   "outputs": [],
   "source": [
    "def count_conflicts(drones, conflict_radius):\n",
    "\n",
    "    conflicts = set()\n",
    "    \n",
    "    for x_drone,y_drone in drones:\n",
    "        \n",
    "        for x_compare,y_compare in drones: \n",
    "            \n",
    "            if (x_drone,y_drone) != (x_compare,y_compare) and (abs(x_drone-x_compare) <= conflict_radius) and (abs(y_drone-y_compare) <= conflict_radius): \n",
    "                \n",
    "                #only compares unique values\n",
    "                \n",
    "                if math.hypot(x_drone-x_compare,y_drone-y_compare) <= conflict_radius:\n",
    "            \n",
    "                    conflicts.add((x_drone,y_drone))\n",
    "                    break\n",
    "\n",
    "\n",
    "    return len(conflicts)\n"
   ]
  },
  {
   "cell_type": "code",
   "execution_count": 3,
   "id": "93fbc7c6",
   "metadata": {
    "scrolled": true
   },
   "outputs": [
    {
     "name": "stdout",
     "output_type": "stream",
     "text": [
      "Drones in conflict: 3789\n"
     ]
    }
   ],
   "source": [
    "conflicts = count_conflicts(positions, CONFLICT_RADIUS)\n",
    "print(\"Drones in conflict: {}\".format(conflicts))"
   ]
  },
  {
   "cell_type": "markdown",
   "id": "b83feb65",
   "metadata": {},
   "source": [
    "## Now trying: O(nlogn) by making a subset to look through 500 units away from x,y"
   ]
  },
  {
   "cell_type": "code",
   "execution_count": 4,
   "id": "50cd026b",
   "metadata": {},
   "outputs": [],
   "source": [
    "def dist(x1,y1,x2,y2,conflict_radius):\n",
    "    \n",
    "    if math.hypot(x1-x2,y1-y2) <= conflict_radius:\n",
    "        return True"
   ]
  },
  {
   "cell_type": "code",
   "execution_count": 7,
   "id": "5a26c847",
   "metadata": {
    "scrolled": false
   },
   "outputs": [],
   "source": [
    "def count_conflicts_2(drones, conflict_radius):\n",
    "    \n",
    "    loop = 0\n",
    "    conflicts_2 = set()\n",
    "\n",
    "    for x_drone,y_drone in positions:\n",
    "\n",
    "        i = loop # reinitilaise the loop counter to the i position in positions\n",
    "\n",
    "        while True: #move left through the list\n",
    "\n",
    "            i = i - 1 #moving left through the list\n",
    "    \n",
    "            if i >= 0:  # stop at 0 index\n",
    "\n",
    "       \n",
    "                if abs(x_drone - positions[i][0]) <= conflict_radius:#checking x values within conflict radius\n",
    "     \n",
    "                    if (abs(y_drone - positions[i][1]) <= conflict_radius):#checking y values within conflict radius\n",
    "                                                                           #not sure if x and y should be one step\n",
    "                       \n",
    "                        if dist(x_drone,y_drone,positions[i][0],positions[i][1],conflict_radius): #checking Euclid distance\n",
    "                        \n",
    "                            conflicts_2.add((x_drone,y_drone)) #adding conflict x and y value to set\n",
    "                            break #break out of left loop if conflict found\n",
    "                else:\n",
    "                \n",
    "                    break #x values greater than conflict distance so break out of loop\n",
    "\n",
    "\n",
    "            else:\n",
    "                break #hit the begininng of the list so break out\n",
    "\n",
    "        j = loop #right loop counter\n",
    "\n",
    "        while True:\n",
    "\n",
    "         \n",
    "            j = j + 1 #moving right through the list (Think this is the same as moving left)\n",
    "\n",
    "            if j < len(positions):  # stop at last index in list\n",
    "\n",
    "      \n",
    "                if abs(x_drone - positions[j][0]) <= conflict_radius:#cycling right through x values\n",
    "                 \n",
    "                    if (abs(y_drone - positions[j][1]) <= conflict_radius):\n",
    "                    \n",
    "                        if dist(x_drone,y_drone,positions[j][0],positions[j][1],conflict_radius):\n",
    "                \n",
    "                            conflicts_2.add((x_drone,y_drone))#adding conflict x and y value to set\n",
    "                            break                                #chose set so only unique values get recorded\n",
    "                \n",
    "                else:\n",
    "                  \n",
    "                    break #x values greater than conflict distance so break out of loop\n",
    "\n",
    "            else:\n",
    "               \n",
    "                break #hit the end of the list so break out\n",
    "\n",
    "\n",
    "\n",
    "        loop += 1 #move to next drone to compare values to\n",
    "\n",
    "    return len(conflicts_2)"
   ]
  },
  {
   "cell_type": "code",
   "execution_count": 8,
   "id": "9d802c88",
   "metadata": {},
   "outputs": [
    {
     "name": "stdout",
     "output_type": "stream",
     "text": [
      "Drones in conflict: 3789\n"
     ]
    }
   ],
   "source": [
    "conflicts = count_conflicts_2(positions, CONFLICT_RADIUS)\n",
    "print(\"Drones in conflict: {}\".format(conflicts))"
   ]
  }
 ],
 "metadata": {
  "kernelspec": {
   "display_name": "Python 3",
   "language": "python",
   "name": "python3"
  },
  "language_info": {
   "codemirror_mode": {
    "name": "ipython",
    "version": 3
   },
   "file_extension": ".py",
   "mimetype": "text/x-python",
   "name": "python",
   "nbconvert_exporter": "python",
   "pygments_lexer": "ipython3",
   "version": "3.8.8"
  }
 },
 "nbformat": 4,
 "nbformat_minor": 5
}
